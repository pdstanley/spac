{
 "cells": [
  {
   "cell_type": "code",
   "execution_count": null,
   "metadata": {},
   "outputs": [
    {
     "name": "stdout",
     "output_type": "stream",
     "text": [
      "\n",
      "\u001b[93m    Serving on port 5000...\u001b[0m\n",
      "    Using the 'ent' visualizer\n",
      "\n"
     ]
    },
    {
     "name": "stderr",
     "output_type": "stream",
     "text": [
      "127.0.0.1 - - [02/Apr/2019 00:03:40] \"GET / HTTP/1.1\" 200 1287\n",
      "127.0.0.1 - - [02/Apr/2019 00:03:40] \"GET /favicon.ico HTTP/1.1\" 200 1287\n"
     ]
    }
   ],
   "source": [
    "import spacy\n",
    "from spacy import displacy\n",
    "\n",
    "# Load English tokenizer, tagger, parser, NER and word vectors\n",
    "# nlp = spacy.load('en_core_web_sm')\n",
    "nlp = spacy.load('spacy-test-no13')\n",
    "\n",
    "text = \"\"\"Google rebrands its business apps. Uber blew through $1 million a week. Harris Johnson ID 3456345 is also there.\n",
    "   \"\"\"\n",
    "doc = nlp(text)\n",
    "\n",
    "# text = \"\"\"\\nJEDDAH: King Salman will patronize the inaugural ceremony for the restoration of the Tarif historical district on Sunday.\\nIt is part of a program aimed at the development of the ancient Ad Diriyah city.\\nVisiting Gulf Cooperation Council dignitaries and top Saudi officials will attend the ceremony.\\nThe Saudi authorities are making all-out efforts to restore and develop the ancient Ad Diriyah city so as to transform it into a tourist and cultural hub.\\nIn a bid to end reliance on oil, the Kingdom is investing in tourism, aiming to increase spending by Saudis at home instead of on holidays abroad.\\nEncouraging visits to local places of beauty or interest is a key Vision 2030 goal and the Kingdom has some world-class sites, some in remote areas, which are all but unknown outside the Kingdom.\\nIn November, the Saudi Commission for Tourism and National Heritage (SCTH) added 19 new archaeological sites to the National Antiquities Register.\\nThe new sites belong to the pre-Islamic and early Islam eras and were found in three provinces including Bisha, Tathlith, and Balqarn.\\nThe SCTH’s efforts to register heritage and archaeological sites to the Urban Heritage list fall under the Kingdom’s Cultural Heritage Care program that includes a system of projects and programs to develop, highlight and preserve national heritage sites.\\nThe SCTH also launched the Holo Journey project as the first application in the world integrating three innovative technology solutions for enhancing the tourism experience and national heritage.\\n\"\"\"\n",
    "# text = '''On the evening Robert Mueller submitted his report to the Justice Department, ending the special counsel investigation that has clouded all but a few months of his presidency, President Donald Trump was not huddled in a war room or dictating defiant tweets to his underlings.Instead he was on the tiled patio of Mar-a-Lago, bathed in golden light, with his wife and son Barron, who had reached teenagerhood two days earlier.In the eyes of the President and his aides, many of whom traveled to South Florida for the weekend, it was a moment to celebrate: the conclusion of an investigation that did not find enough evidence to indict the President or his confidants for conspiring with Russia to win the 2016 election.Whether the end of Mueller's probe means the end of Trump's long legal albatross, or just the beginning, is largely a matter for Congress and the various other prosecutors who have taken on ancillary investigations.Even as Mueller's team vacates the bland Washington office building where he's been working every day since May 2017, another struggle is beginning, opening a new chapter Trump will try to control but which he will write only part of the script.Still, Trump and his allies are already signaling the report is an unequivocal victory, once that exonerates the President from the various misdeeds -- collusion, obstruction -- that his opponents have used as bywords for what they regard as a shambolic presidency.While there was not a strict plan in place ahead of the report's conclusion, Trump and his Republican allies immediately launched an effort to cast the document as absolving him of wrongdoing.Talking points distributed by the Republican National Committee encouraged Trump's allies to stress that \"after two years, millions of taxpayer dollars, and multiple congressional investigations confirming there was no collusion, it's good this report has finally concluded.\"'''\n",
    "# text = '''On 4 October 1957, the USSR successfully launched the Sputnik-1 earth satellite into space - an achievement that stunned the American public and press but not the US policy and intelligence communities. CIA's Office of Scientific Intelligence (OSI), which was responsible for analyzing the USSR's satellite and missile programs, had reported on the advancements that would lead to this landmark event. As early as 1955, OSI had alerted President Eisenhower to the Soviet program through briefings and finished intelligence products. In June 1957, OSI reported that a Soviet launch of an earth satellite was imminent, noting this capability portended the USSR's production of intercontinental ballistic missiles (ICBMs) capable of reach the US.This compilation from the 1950s is combined with documents from a FOIA case on the Sputnik program - never before on the CIA.gov webpage - that contains additional memoranda and information reports through the early 1960s. This collection comprises 59 documents and 440 pages with insight on CIA intelligence and analysis of Sputnik-1, -2, and -3, as well as the Soviet ballistic missile program from 1955 to the early 1960s. Over half of this release provides new information on the early Soviet space and missile programs.'''\n",
    "# text = '''Serbian President Milosevic may not wish to confront the VJ over their support for the Bosnian Serbs. According to US Embassy reporting, Milosevic is worried about controlling the VJ and has used surrogates to periodically threaten the VJ over opposition to his policies. Many VJ officers, feeling it is their duty to help their formerYugoslav National Army (JNA) colleagues in the BSA, maintain close ties to the BSA, and consider BSA commander Ratko Mladic to be one of their own. Milosevic may also believe that maintaining at least some aid to the BSA will help him coax Mladic to split with Karadzic.'''\n",
    "# Process whole documents\n",
    "# text = (u\"When Sebastian Thrun started working on self-driving cars at \"\n",
    "#         u\"Google in 2007, few people outside of the company took him \"\n",
    "#         u\"seriously. “I can tell you very senior CEOs of major American \"\n",
    "#         u\"car companies would shake my hand and turn away because I wasn’t \"\n",
    "#         u\"worth talking to,” said Thrun, now the co-founder and CEO of \"\n",
    "#         u\"online higher education startup Udacity, in an interview with \"\n",
    "#         u\"Recode earlier this week.\")\n",
    "\n",
    "displacy.serve(doc, style=\"ent\")"
   ]
  },
  {
   "cell_type": "code",
   "execution_count": 108,
   "metadata": {},
   "outputs": [],
   "source": [
    "import random\n",
    "\n",
    "TRAIN_DATA = [\n",
    "     (\"Uber blew through $1 million a week. Google rebrands its business apps\", {'entities': [(0, 4, 'ORG'),(37, 43, 'ORG')]}),\n",
    "     (\"Google rebrands its business apps\", {'entities': [(0, 6, \"ORG\")]}),\n",
    "     (\"Google is not a nice place\", {'entities': [(0, 6, \"ORG\")]}),\n",
    "     (\"The organization Google rebrands its business apps\", {'entities': [(17, 24, \"ORG\")]}),\n",
    "     (\"John Doe ID 1234556 is in the area\", {'entities': [(13, 20, \"ID\")]}),\n",
    "     (\"James McClernon ID 2234632 is continuing to do things.\", {'entities': [(20, 27, \"ID\")]}),\n",
    "     (\"It is Eric Peterson ID 91827372 who is there right now.\", {'entities': [(24, 32, \"ID\")]})\n",
    "]\n",
    "\n",
    "nlp = spacy.blank('en')\n",
    "nlp.vocab.vectors.name = 'spacy_pretrained_vectors'\n",
    "if \"ner\" not in nlp.pipe_names:\n",
    "    ner = nlp.create_pipe(\"ner\")\n",
    "    nlp.add_pipe(ner, last=True)\n",
    "    ner.add_label(\"ORG\")\n",
    "    ner.add_label(\"ID\")\n",
    "optimizer = nlp.begin_training()\n",
    "output_path = 'spacy-test-no13'\n",
    "for i in range(100):\n",
    "    random.shuffle(TRAIN_DATA)\n",
    "    for text, annotations in TRAIN_DATA:\n",
    "        nlp.update([text], [annotations], sgd=optimizer)\n",
    "\n",
    "# save the model after the training\n",
    "nlp.to_disk(output_path)\n",
    "\n"
   ]
  },
  {
   "cell_type": "code",
   "execution_count": 86,
   "metadata": {},
   "outputs": [
    {
     "ename": "TypeError",
     "evalue": "'<' not supported between instances of 'str' and 'int'",
     "output_type": "error",
     "traceback": [
      "\u001b[0;31m---------------------------------------------------------------------------\u001b[0m",
      "\u001b[0;31mTypeError\u001b[0m                                 Traceback (most recent call last)",
      "\u001b[0;32m<ipython-input-86-26269b32afd4>\u001b[0m in \u001b[0;36m<module>\u001b[0;34m()\u001b[0m\n\u001b[0;32m----> 1\u001b[0;31m \u001b[0mhtml\u001b[0m \u001b[0;34m=\u001b[0m \u001b[0mdisplacy\u001b[0m\u001b[0;34m.\u001b[0m\u001b[0mrender\u001b[0m\u001b[0;34m(\u001b[0m\u001b[0mdoc\u001b[0m\u001b[0;34m,\u001b[0m \u001b[0mstyle\u001b[0m\u001b[0;34m=\u001b[0m\u001b[0;34m\"ent\"\u001b[0m\u001b[0;34m,\u001b[0m \u001b[0mmanual\u001b[0m\u001b[0;34m=\u001b[0m\u001b[0;32mTrue\u001b[0m\u001b[0;34m)\u001b[0m\u001b[0;34m\u001b[0m\u001b[0m\n\u001b[0m\u001b[1;32m      2\u001b[0m \u001b[0;34m\u001b[0m\u001b[0m\n\u001b[1;32m      3\u001b[0m \u001b[0;31m# html = displacy.render([doc1, doc2], style=\"dep\", page=True)\u001b[0m\u001b[0;34m\u001b[0m\u001b[0;34m\u001b[0m\u001b[0m\n\u001b[1;32m      4\u001b[0m \u001b[0;31m# html = displacy.render(doc, style=\"ent\", manual=True)\u001b[0m\u001b[0;34m\u001b[0m\u001b[0;34m\u001b[0m\u001b[0m\n",
      "\u001b[0;32m/usr/local/lib/python3.7/site-packages/spacy/displacy/__init__.py\u001b[0m in \u001b[0;36mrender\u001b[0;34m(docs, style, page, minify, jupyter, options, manual)\u001b[0m\n\u001b[1;32m     38\u001b[0m     \u001b[0mrenderer\u001b[0m \u001b[0;34m=\u001b[0m \u001b[0mrenderer\u001b[0m\u001b[0;34m(\u001b[0m\u001b[0moptions\u001b[0m\u001b[0;34m=\u001b[0m\u001b[0moptions\u001b[0m\u001b[0;34m)\u001b[0m\u001b[0;34m\u001b[0m\u001b[0m\n\u001b[1;32m     39\u001b[0m     \u001b[0mparsed\u001b[0m \u001b[0;34m=\u001b[0m \u001b[0;34m[\u001b[0m\u001b[0mconverter\u001b[0m\u001b[0;34m(\u001b[0m\u001b[0mdoc\u001b[0m\u001b[0;34m,\u001b[0m \u001b[0moptions\u001b[0m\u001b[0;34m)\u001b[0m \u001b[0;32mfor\u001b[0m \u001b[0mdoc\u001b[0m \u001b[0;32min\u001b[0m \u001b[0mdocs\u001b[0m\u001b[0;34m]\u001b[0m \u001b[0;32mif\u001b[0m \u001b[0;32mnot\u001b[0m \u001b[0mmanual\u001b[0m \u001b[0;32melse\u001b[0m \u001b[0mdocs\u001b[0m\u001b[0;34m\u001b[0m\u001b[0m\n\u001b[0;32m---> 40\u001b[0;31m     \u001b[0m_html\u001b[0m\u001b[0;34m[\u001b[0m\u001b[0;34m'parsed'\u001b[0m\u001b[0;34m]\u001b[0m \u001b[0;34m=\u001b[0m \u001b[0mrenderer\u001b[0m\u001b[0;34m.\u001b[0m\u001b[0mrender\u001b[0m\u001b[0;34m(\u001b[0m\u001b[0mparsed\u001b[0m\u001b[0;34m,\u001b[0m \u001b[0mpage\u001b[0m\u001b[0;34m=\u001b[0m\u001b[0mpage\u001b[0m\u001b[0;34m,\u001b[0m \u001b[0mminify\u001b[0m\u001b[0;34m=\u001b[0m\u001b[0mminify\u001b[0m\u001b[0;34m)\u001b[0m\u001b[0;34m.\u001b[0m\u001b[0mstrip\u001b[0m\u001b[0;34m(\u001b[0m\u001b[0;34m)\u001b[0m\u001b[0;34m\u001b[0m\u001b[0m\n\u001b[0m\u001b[1;32m     41\u001b[0m     \u001b[0mhtml\u001b[0m \u001b[0;34m=\u001b[0m \u001b[0m_html\u001b[0m\u001b[0;34m[\u001b[0m\u001b[0;34m'parsed'\u001b[0m\u001b[0;34m]\u001b[0m\u001b[0;34m\u001b[0m\u001b[0m\n\u001b[1;32m     42\u001b[0m     \u001b[0;32mif\u001b[0m \u001b[0mjupyter\u001b[0m\u001b[0;34m:\u001b[0m  \u001b[0;31m# return HTML rendered by IPython display()\u001b[0m\u001b[0;34m\u001b[0m\u001b[0m\n",
      "\u001b[0;32m/usr/local/lib/python3.7/site-packages/spacy/displacy/render.py\u001b[0m in \u001b[0;36mrender\u001b[0;34m(self, parsed, page, minify)\u001b[0m\n\u001b[1;32m    192\u001b[0m         \"\"\"\n\u001b[1;32m    193\u001b[0m         rendered = [self.render_ents(p['text'], p['ents'],\n\u001b[0;32m--> 194\u001b[0;31m                     p.get('title', None)) for p in parsed]\n\u001b[0m\u001b[1;32m    195\u001b[0m         \u001b[0;32mif\u001b[0m \u001b[0mpage\u001b[0m\u001b[0;34m:\u001b[0m\u001b[0;34m\u001b[0m\u001b[0m\n\u001b[1;32m    196\u001b[0m             docs = ''.join([TPL_FIGURE.format(content=doc)\n",
      "\u001b[0;32m/usr/local/lib/python3.7/site-packages/spacy/displacy/render.py\u001b[0m in \u001b[0;36m<listcomp>\u001b[0;34m(.0)\u001b[0m\n\u001b[1;32m    192\u001b[0m         \"\"\"\n\u001b[1;32m    193\u001b[0m         rendered = [self.render_ents(p['text'], p['ents'],\n\u001b[0;32m--> 194\u001b[0;31m                     p.get('title', None)) for p in parsed]\n\u001b[0m\u001b[1;32m    195\u001b[0m         \u001b[0;32mif\u001b[0m \u001b[0mpage\u001b[0m\u001b[0;34m:\u001b[0m\u001b[0;34m\u001b[0m\u001b[0m\n\u001b[1;32m    196\u001b[0m             docs = ''.join([TPL_FIGURE.format(content=doc)\n",
      "\u001b[0;32mdoc.pyx\u001b[0m in \u001b[0;36mspacy.tokens.doc.Doc.__getitem__\u001b[0;34m()\u001b[0m\n",
      "\u001b[0;31mTypeError\u001b[0m: '<' not supported between instances of 'str' and 'int'"
     ]
    }
   ],
   "source": [
    "html = displacy.render(doc, style=\"ent\", manual=True)\n",
    "\n",
    "# html = displacy.render([doc1, doc2], style=\"dep\", page=True)\n",
    "# html = displacy.render(doc, style=\"ent\", manual=True)"
   ]
  },
  {
   "cell_type": "code",
   "execution_count": 4,
   "metadata": {},
   "outputs": [],
   "source": [
    "# Find named entities, phrases and concepts\n",
    "# for entity in doc.ents:\n",
    "#     print(entity.text, entity.label_)"
   ]
  }
 ],
 "metadata": {
  "kernelspec": {
   "display_name": "Python 3",
   "language": "python",
   "name": "python3"
  },
  "language_info": {
   "codemirror_mode": {
    "name": "ipython",
    "version": 3
   },
   "file_extension": ".py",
   "mimetype": "text/x-python",
   "name": "python",
   "nbconvert_exporter": "python",
   "pygments_lexer": "ipython3",
   "version": "3.7.0"
  }
 },
 "nbformat": 4,
 "nbformat_minor": 2
}
